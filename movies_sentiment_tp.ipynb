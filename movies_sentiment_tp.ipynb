{
 "cells": [
  {
   "cell_type": "markdown",
   "metadata": {},
   "source": [
    "# TP : Sentiment analysis on IMDB movie reviews"
   ]
  },
  {
   "cell_type": "markdown",
   "metadata": {},
   "source": [
    "## Objectives\n",
    "\n",
    "1. Implement a simple way to represent text data - Bag of words\n",
    "2. Implement a basic statistical learning model - Bayesian Naive\n",
    "3. Use these representations and this model for a sentiment analysis task.\n",
    "4. Experiment with various way to reduce the vocabulary size and look at the distribution obtained."
   ]
  },
  {
   "cell_type": "markdown",
   "metadata": {},
   "source": [
    "## Necessary dependancies\n",
    "\n",
    "We will need the following packages:\n",
    "- The Machine Learning API Scikit-learn : http://scikit-learn.org/stable/install.html\n",
    "- The Natural Language Toolkit : http://www.nltk.org/install.html\n",
    "\n",
    "Both are available with Anaconda: https://anaconda.org/anaconda/nltk and https://anaconda.org/anaconda/scikit-learn"
   ]
  },
  {
   "cell_type": "code",
   "execution_count": 76,
   "metadata": {},
   "outputs": [],
   "source": [
    "import os.path as op\n",
    "import re \n",
    "import numpy as np\n",
    "import matplotlib.pyplot as plt"
   ]
  },
  {
   "cell_type": "code",
   "execution_count": 77,
   "metadata": {},
   "outputs": [
    {
     "name": "stderr",
     "output_type": "stream",
     "text": [
      "[nltk_data] Downloading package punkt to C:\\Users\\João\n",
      "[nltk_data]     Melga\\AppData\\Roaming\\nltk_data...\n",
      "[nltk_data]   Package punkt is already up-to-date!\n"
     ]
    },
    {
     "data": {
      "text/plain": [
       "True"
      ]
     },
     "execution_count": 77,
     "metadata": {},
     "output_type": "execute_result"
    }
   ],
   "source": [
    "import nltk\n",
    "nltk.download('punkt')"
   ]
  },
  {
   "cell_type": "markdown",
   "metadata": {},
   "source": [
    "## Loading data\n",
    "\n",
    "We retrieve the textual data in the variable *texts*.\n",
    "\n",
    "The labels are retrieved in the variable $y$ - it contains *len(texts)* of them: $0$ indicates that the corresponding review is negative while $1$ indicates that it is positive."
   ]
  },
  {
   "cell_type": "code",
   "execution_count": 78,
   "metadata": {},
   "outputs": [],
   "source": [
    "from glob import glob\n",
    "\n",
    "# We get the files from the path: ./aclImdb/train/neg for negative reviews, and ./aclImdb/train/pos for positive reviews\n",
    "train_filenames_neg = sorted(glob(op.join('.', 'aclImdb', 'train', 'neg', '*.txt')))\n",
    "train_filenames_pos = sorted(glob(op.join('.', 'aclImdb', 'train', 'pos', '*.txt')))\n",
    "\n",
    "# Each files contains a review that consists in one line of text: we put this string in two lists, that we concatenate\n",
    "train_texts_neg = [open(f, encoding=\"utf8\").read() for f in train_filenames_neg]\n",
    "train_texts_pos = [open(f, encoding=\"utf8\").read() for f in train_filenames_pos]\n",
    "train_texts = train_texts_neg + train_texts_pos\n",
    "\n",
    "# The first half of the elements of the list are string of negative reviews, and the second half positive ones\n",
    "# We create the labels, as an array of [1,len(texts)], filled with 1, and change the first half to 0\n",
    "train_labels = np.ones(len(train_texts), dtype=int)\n",
    "train_labels[:len(train_texts_neg)] = 0."
   ]
  },
  {
   "cell_type": "code",
   "execution_count": 79,
   "metadata": {},
   "outputs": [
    {
     "data": {
      "text/plain": [
       "\"Story of a man who has unnatural feelings for a pig. Starts out with a opening scene that is a terrific example of absurd comedy. A formal orchestra audience is turned into an insane, violent mob by the crazy chantings of it's singers. Unfortunately it stays absurd the WHOLE time with no general narrative eventually making it just too off putting. Even those from the era should be turned off. The cryptic dialogue would make Shakespeare seem easy to a third grader. On a technical level it's better than you might think with some good cinematography by future great Vilmos Zsigmond. Future stars Sally Kirkland and Frederic Forrest can be seen briefly.\""
      ]
     },
     "execution_count": 79,
     "metadata": {},
     "output_type": "execute_result"
    }
   ],
   "source": [
    "open(\"./aclImdb/train/neg/0_3.txt\", encoding=\"utf8\").read()"
   ]
  },
  {
   "cell_type": "markdown",
   "metadata": {},
   "source": [
    "**In this lab, the impact of our choice of representations upon our results will also depend on the quantity of data we use:** try to see how changing the parameter ```k``` affects our results !"
   ]
  },
  {
   "cell_type": "code",
   "execution_count": 80,
   "metadata": {},
   "outputs": [
    {
     "name": "stdout",
     "output_type": "stream",
     "text": [
      "Number of documents: 2500\n"
     ]
    }
   ],
   "source": [
    "# This number of documents may be high for most computers: we can select a fraction of them (here, one in k)\n",
    "# Use an even number to keep the same number of positive and negative reviews\n",
    "k = 10\n",
    "train_texts_reduced = train_texts[0::k]\n",
    "train_labels_reduced = train_labels[0::k]\n",
    "print('Number of documents:', len(train_texts_reduced))"
   ]
  },
  {
   "cell_type": "markdown",
   "metadata": {},
   "source": [
    "We can use a function from sklearn, ```train_test_split```, to separate data into training and validation sets:"
   ]
  },
  {
   "cell_type": "code",
   "execution_count": 81,
   "metadata": {},
   "outputs": [],
   "source": [
    "from sklearn.model_selection import train_test_split"
   ]
  },
  {
   "cell_type": "code",
   "execution_count": 82,
   "metadata": {},
   "outputs": [],
   "source": [
    "train_texts_splt, val_texts, train_labels_splt, val_labels = train_test_split(train_texts_reduced, train_labels_reduced, test_size=.2, random_state=1)"
   ]
  },
  {
   "cell_type": "markdown",
   "metadata": {},
   "source": [
    "## I - Adapted representation of documents\n",
    "\n",
    "Our statistical model, like most models applied to textual data, uses counts of word occurrences in a document. Thus, a very convenient way to represent a document is to use a Bag-of-Words (BoW) vector, containing the counts of each word (regardless of their order of occurrence) in the document. \n",
    "\n",
    "If we consider the set of all the words appearing in our $T$ training documents, which we note $V$ (Vocabulary), we can create **an index**, which is a bijection associating to each $w$ word an integer, which will be its position in $V$. \n",
    "\n",
    "Thus, for a document extracted from a set of documents containing $|V|$ different words, a BoW representation will be a vector of size $|V|$, whose value at the index of a word $w$ will be its number of occurrences in the document. \n",
    "\n",
    "We can use the **CountVectorizer** class from scikit-learn to obtain these representations:"
   ]
  },
  {
   "cell_type": "code",
   "execution_count": 83,
   "metadata": {},
   "outputs": [],
   "source": [
    "from sklearn.feature_extraction.text import CountVectorizer\n",
    "\n",
    "from sklearn.model_selection import cross_val_score\n",
    "from sklearn.base import BaseEstimator, ClassifierMixin"
   ]
  },
  {
   "cell_type": "code",
   "execution_count": 84,
   "metadata": {},
   "outputs": [
    {
     "name": "stdout",
     "output_type": "stream",
     "text": [
      "['avenue' 'boulevard' 'city' 'down' 'ran' 'the' 'walk' 'walked']\n"
     ]
    },
    {
     "data": {
      "text/plain": [
       "array([[0, 1, 0, 2, 0, 1, 0, 1],\n",
       "       [1, 0, 0, 1, 0, 1, 0, 1],\n",
       "       [0, 1, 0, 1, 1, 1, 0, 0],\n",
       "       [0, 0, 1, 1, 0, 1, 1, 0],\n",
       "       [1, 0, 0, 1, 0, 2, 1, 0]], dtype=int64)"
      ]
     },
     "execution_count": 84,
     "metadata": {},
     "output_type": "execute_result"
    }
   ],
   "source": [
    "corpus = ['I walked down down the boulevard',\n",
    "          'I walked down the avenue',\n",
    "          'I ran down the boulevard',\n",
    "          'I walk down the city',\n",
    "          'I walk down the the avenue']\n",
    "vectorizer = CountVectorizer()\n",
    "\n",
    "Bow = vectorizer.fit_transform(corpus)\n",
    "\n",
    "print(vectorizer.get_feature_names_out())\n",
    "Bow.toarray()"
   ]
  },
  {
   "cell_type": "markdown",
   "metadata": {},
   "source": [
    "We display the list containing the words ordered according to their index (Note that words of 2 characters or less are not counted)."
   ]
  },
  {
   "cell_type": "markdown",
   "metadata": {},
   "source": [
    "### Preprocessing the text: get the BoW representations ##\n",
    "\n",
    "The first thing to do is to turn the review from a string into a list of words. The simplest method is to divide the string according to spaces with the command:\n",
    "``text.split()``\n",
    "\n",
    "But we must also be careful to remove special characters that may not have been cleaned up (such as HTML tags if the data was obtained from web pages). Since we're going to count words, we'll have to build a list of tokens appearing in our data. In our case, we'd like to reduce this list and make it uniform (ignore capitalization, punctuation, and the shortest words). \n",
    "We will therefore use a function adapted to our needs - but this is a job that we generally don't need to do ourselves, since there are many tools already adapted to most situations. \n",
    "For text cleaning, there are many scripts, based on different tools (regular expressions, for example) that allow you to prepare data. The division of the text into words and the management of punctuation is handled in a step called *tokenization*; if needed, a python package like NLTK contains many different *tokenizers*."
   ]
  },
  {
   "cell_type": "code",
   "execution_count": 85,
   "metadata": {},
   "outputs": [
    {
     "name": "stdout",
     "output_type": "stream",
     "text": [
      "['walked', 'down', 'down', 'the', 'boulevard', 'walked', 'down', 'the', 'avenue', 'ran', 'down', 'the', 'boulevard', 'walk', 'down', 'the', 'city', 'walk', 'down', 'the', 'the', 'avenue']\n",
      "['I', 'walked', 'down', 'down', 'the', 'boulevard', '.', 'I', 'walked', 'down', 'the', 'avenue', '.', 'I', 'ran', 'down', 'the', 'boulevard', '.', 'I', 'walk', 'down', 'the', 'city', '.', 'I', 'walk', 'down', 'the', 'the', 'avenue', '.']\n"
     ]
    }
   ],
   "source": [
    "# We might want to clean the file with various strategies:\n",
    "def clean_and_tokenize(text):\n",
    "    \"\"\"\n",
    "    Cleaning a document with:\n",
    "        - Lowercase        \n",
    "        - Removing numbers with regular expressions\n",
    "        - Removing punctuation with regular expressions\n",
    "        - Removing other artifacts\n",
    "    And separate the document into words by simply splitting at spaces\n",
    "    Params:\n",
    "        text (string): a sentence or a document\n",
    "    Returns:\n",
    "        tokens (list of strings): the list of tokens (word units) forming the document\n",
    "    \"\"\"        \n",
    "    # Lowercase\n",
    "    text = text.lower()\n",
    "    # Remove numbers\n",
    "    text = re.sub(r\"[0-9]+\", \"\", text)\n",
    "    # Remove punctuation\n",
    "    REMOVE_PUNCT = re.compile(\"[.;:!\\'?,\\\"()\\[\\]]\")\n",
    "    text = REMOVE_PUNCT.sub(\"\", text)\n",
    "    # Remove small words (1 and 2 characters)\n",
    "    text = re.sub(r\"\\b\\w{1,2}\\b\", \"\", text)\n",
    "    # Remove HTML artifacts specific to the corpus we're going to work with\n",
    "    REPLACE_HTML = re.compile(\"(<br\\s*/><br\\s*/>)|(\\-)|(\\/)\")\n",
    "    text = REPLACE_HTML.sub(\" \", text)\n",
    "    \n",
    "    tokens = text.split()        \n",
    "    return tokens\n",
    "\n",
    "# Or we might want to use an already-implemented tool. The NLTK package has a lot of very useful text processing tools, among them various tokenizers\n",
    "# Careful, NLTK was the first well-documented NLP package, but it might be outdated for some uses. Check the documentation !\n",
    "from nltk.tokenize import word_tokenize\n",
    "\n",
    "corpus_raw = \"I walked down down the boulevard. I walked down the avenue. I ran down the boulevard. I walk down the city. I walk down the the avenue.\"\n",
    "print(clean_and_tokenize(corpus_raw))\n",
    "print(word_tokenize(corpus_raw))"
   ]
  },
  {
   "cell_type": "markdown",
   "metadata": {},
   "source": [
    "The next function takes as input a list of documents (each in the form of a string) and returns, as in the example using ``CountVectorizer``:\n",
    "- A vocabulary that associates, to each word encountered, an index\n",
    "- A matrix, with rows representing documents and columns representing words indexed by the vocabulary. In position $(i,j)$, one should have the number of occurrences of the word $j$ in the document $i$.\n",
    "\n",
    "The vocabulary, which was in the form of a *list* in the previous example, can be returned in the form of a *dictionary* whose keys are the words and values are the indices. Since the vocabulary lists the words in the corpus without worrying about their number of occurrences, it can be built up using a set (in python).\n",
    "\n",
    "<div class='alert alert-block alert-info'>\n",
    "            Code:</div>"
   ]
  },
  {
   "cell_type": "code",
   "execution_count": 86,
   "metadata": {},
   "outputs": [],
   "source": [
    "def count_words(texts):\n",
    "    \"\"\"\n",
    "    Vectorize text : return count of each word in the text snippets\n",
    "\n",
    "    Parameters\n",
    "    ----------\n",
    "    texts : list of str\n",
    "        The texts\n",
    "    Returns\n",
    "    -------\n",
    "    vocabulary : dict\n",
    "        A dictionary that points to an index in counts for each word.\n",
    "    counts : ndarray, shape (n_samples, n_features)\n",
    "        The counts of each word in each text.\n",
    "    \"\"\"\n",
    "    \n",
    "    # List of all words in the texts\n",
    "    words = []\n",
    "    for text in texts:\n",
    "        # Clean and tokenize the text\n",
    "        tokens = clean_and_tokenize(text)\n",
    "        # Add the list of tokens to the list of words\n",
    "        words.append(tokens)\n",
    " \n",
    "    # Flatten the list of lists into a single list of words\n",
    "    flat_words = [token for sublist in words for token in sublist]\n",
    "    \n",
    "    # Creation of the set of all words in the texts\n",
    "    words = set(flat_words)\n",
    "    \n",
    "    # Creation of the vocabulary\n",
    "    vocabulary = {}\n",
    "    for word in words:\n",
    "        vocabulary[word] = len(vocabulary)\n",
    "    \n",
    "    # Creation of the Count Matrix\n",
    "    counts = np.zeros((len(texts), len(vocabulary)))\n",
    "    for i, text in enumerate(texts):\n",
    "        tokens = clean_and_tokenize(text)\n",
    "        for token in tokens:\n",
    "            counts[i, vocabulary[token]] += 1\n",
    "    \n",
    "    return vocabulary, counts"
   ]
  },
  {
   "cell_type": "code",
   "execution_count": 87,
   "metadata": {},
   "outputs": [
    {
     "name": "stdout",
     "output_type": "stream",
     "text": [
      "Vocabulary:\n",
      " {'ran': 0, 'walked': 1, 'avenue': 2, 'walk': 3, 'down': 4, 'boulevard': 5, 'the': 6, 'city': 7}\n",
      "\n",
      "Counts:\n",
      " [[0. 1. 0. 0. 2. 1. 1. 0.]\n",
      " [0. 1. 1. 0. 1. 0. 1. 0.]\n",
      " [1. 0. 0. 0. 1. 1. 1. 0.]\n",
      " [0. 0. 0. 1. 1. 0. 1. 1.]\n",
      " [0. 0. 1. 1. 1. 0. 2. 0.]]\n"
     ]
    }
   ],
   "source": [
    "Voc, X = count_words(corpus)\n",
    "print(\"Vocabulary:\\n\", Voc)\n",
    "print()\n",
    "print(\"Counts:\\n\", X)"
   ]
  },
  {
   "cell_type": "markdown",
   "metadata": {},
   "source": [
    "Now, if we want to represent text that was not available when building the vocabulary, we will not be able to represent **new words** ! Let's take a look at how CountVectorizer does it:"
   ]
  },
  {
   "cell_type": "code",
   "execution_count": 88,
   "metadata": {},
   "outputs": [
    {
     "data": {
      "text/plain": [
       "array([[0, 0, 0, 0, 0, 1, 0, 1]], dtype=int64)"
      ]
     },
     "execution_count": 88,
     "metadata": {},
     "output_type": "execute_result"
    }
   ],
   "source": [
    "val_corpus = ['I walked up the street']\n",
    "Bow = vectorizer.transform(val_corpus)\n",
    "Bow.toarray()"
   ]
  },
  {
   "cell_type": "markdown",
   "metadata": {},
   "source": [
    "Modify the ```count_words``` function to be able to deal with new documents when given a previously obtained vocabulary ! \n",
    "\n",
    "<div class='alert alert-block alert-info'>\n",
    "            Code:</div>"
   ]
  },
  {
   "cell_type": "code",
   "execution_count": 102,
   "metadata": {},
   "outputs": [],
   "source": [
    "def count_words(texts, voc = None):\n",
    "    \"\"\"\n",
    "    Vectorize text : return count of each word in the text snippets\n",
    "\n",
    "    Parameters\n",
    "    ----------\n",
    "    texts : list of str\n",
    "        The texts\n",
    "    voc : dict\n",
    "        A dictionary that points to an index in counts for each word - output by a previous use of the function\n",
    "        If not None, use this one\n",
    "    Returns\n",
    "    -------\n",
    "    vocabulary : dict\n",
    "        A dictionary that points to an index in counts for each word.\n",
    "    counts : ndarray(n_samples, n_features)\n",
    "        The counts of each word in each text.\n",
    "    \"\"\"\n",
    "    \n",
    "    if voc == None:\n",
    "        vocabulary = {}\n",
    "         \n",
    "        # List of all words in the texts\n",
    "        words = []\n",
    "        for text in texts:\n",
    "            # Clean and tokenize the text\n",
    "            tokens = clean_and_tokenize(text)\n",
    "            # Add the list of tokens to the list of words\n",
    "            words.append(tokens)\n",
    "\n",
    "        # Flatten the list of lists into a single list of words\n",
    "        flat_words = [token for sublist in words for token in sublist]\n",
    "        \n",
    "        # Creation of the set of all words in the texts\n",
    "        words = set(flat_words)\n",
    "        \n",
    "        # Creation of the vocabulary\n",
    "        for word in words:\n",
    "            if word not in vocabulary:\n",
    "                vocabulary[word] = len(vocabulary)\n",
    "    else:\n",
    "        vocabulary = voc\n",
    "    \n",
    "    # Creation of the Count Matrix\n",
    "    counts = np.zeros((len(texts), len(vocabulary)))\n",
    "    for i, text in enumerate(texts):\n",
    "        tokens = clean_and_tokenize(text)\n",
    "        for token in tokens:\n",
    "            if token in vocabulary:\n",
    "                counts[i, vocabulary[token]] += 1\n",
    "        \n",
    "    \n",
    "    return vocabulary, counts"
   ]
  },
  {
   "cell_type": "code",
   "execution_count": 103,
   "metadata": {},
   "outputs": [
    {
     "name": "stdout",
     "output_type": "stream",
     "text": [
      "Vocabulary:\n",
      " {'ran': 0, 'walked': 1, 'avenue': 2, 'walk': 3, 'down': 4, 'boulevard': 5, 'the': 6, 'city': 7}\n",
      "\n",
      "Counts:\n",
      " [[0. 1. 0. 0. 2. 1. 1. 0.]\n",
      " [0. 1. 1. 0. 1. 0. 1. 0.]\n",
      " [1. 0. 0. 0. 1. 1. 1. 0.]\n",
      " [0. 0. 0. 1. 1. 0. 1. 1.]\n",
      " [0. 0. 1. 1. 1. 0. 2. 0.]]\n",
      "New Vocabulary:\n",
      " {'ran': 0, 'walked': 1, 'avenue': 2, 'walk': 3, 'down': 4, 'boulevard': 5, 'the': 6, 'city': 7}\n",
      "\n",
      "New Counts:\n",
      " [[0. 1. 0. 0. 0. 0. 1. 0.]]\n"
     ]
    }
   ],
   "source": [
    "Voc, X = count_words(corpus)\n",
    "print(\"Vocabulary:\\n\", Voc)\n",
    "print()\n",
    "print(\"Counts:\\n\", X)\n",
    "\n",
    "new_corpus = ['I walked up the street']\n",
    "\n",
    "newVoc, newX = count_words(new_corpus, voc=Voc)\n",
    "print(\"New Vocabulary:\\n\", newVoc)\n",
    "print()\n",
    "print(\"New Counts:\\n\", newX)"
   ]
  },
  {
   "cell_type": "markdown",
   "metadata": {},
   "source": [
    "<div class='alert alert-block alert-warning'>\n",
    "            Questions:</div>                       \n",
    "\n",
    "Careful: check the size that the representations are going to have (given the way they are build). What does this imply for the memory use ? What ```CountVectorizer``` argument allows to avoid the issue ?\n",
    "\n",
    "Answer: When using CountVectorizer in Python's scikit-learn library, the size of the representations can become quite large, especially when dealing with large text data. This can lead to high memory usage, which can be a problem in systems with limited resources.\n",
    "\n",
    "To mitigate this issue, CountVectorizer uses a sparse matrix representation by default. A sparse matrix is a matrix in which most of the elements are zero. Instead of storing all the zeros, a sparse matrix only stores the locations and values of the non-zero elements, which can save a significant amount of memory.\n",
    "\n",
    "<div class='alert alert-block alert-info'>\n",
    "            Code:</div>"
   ]
  },
  {
   "cell_type": "code",
   "execution_count": 109,
   "metadata": {},
   "outputs": [
    {
     "name": "stdout",
     "output_type": "stream",
     "text": [
      "(2000, 29378)\n"
     ]
    }
   ],
   "source": [
    "voc, train_bow = count_words(train_texts_splt)\n",
    "print(train_bow.shape)"
   ]
  },
  {
   "cell_type": "code",
   "execution_count": 110,
   "metadata": {},
   "outputs": [
    {
     "name": "stdout",
     "output_type": "stream",
     "text": [
      "(500, 29378)\n"
     ]
    }
   ],
   "source": [
    "_, val_bow = count_words(val_texts, voc)\n",
    "print(val_bow.shape)"
   ]
  },
  {
   "cell_type": "code",
   "execution_count": 124,
   "metadata": {},
   "outputs": [
    {
     "name": "stdout",
     "output_type": "stream",
     "text": [
      "(2000, 25410)\n"
     ]
    }
   ],
   "source": [
    "# Do the same with a CountVectorizer: create and fit the vectorizer to the training data\n",
    "vectorizer = CountVectorizer()\n",
    "vectorizer_train_bow = vectorizer.fit_transform(train_texts_splt).toarray()\n",
    "\n",
    "print(vectorizer_train_bow.shape)"
   ]
  },
  {
   "cell_type": "code",
   "execution_count": 125,
   "metadata": {},
   "outputs": [
    {
     "name": "stdout",
     "output_type": "stream",
     "text": [
      "(500, 25410)\n"
     ]
    }
   ],
   "source": [
    "# Transform the validation data\n",
    "vectorizer_val_bow = vectorizer.transform(val_texts).toarray()\n",
    "print(vectorizer_val_bow.shape)"
   ]
  },
  {
   "cell_type": "markdown",
   "metadata": {},
   "source": [
    "## II- Naive Bayesian \n",
    "\n",
    "### Main idea\n",
    "\n",
    "A movie review is in fact a list of words $s = (w_1, ..., w_N)$, and we try to find the associated class $c$ - which in our case may be $c = 0$ or $c = 1$. The objective is thus to find for each review $s$ the class $\\hat{c}$ maximizing the conditional probability **$P(c|s)$** : \n",
    "\n",
    "$$\\hat{c} = \\underset{c}{\\mathrm{argmax}}\\, P(c|s) = \\underset{c}{\\mathrm{argmax}}\\,\\frac{P(s|c)P(c)}{P(s)}$$\n",
    "\n",
    "**Hypothesis : P(s) is constant for each class** :\n",
    "\n",
    "$$\\hat{c} = \\underset{c}{\\mathrm{argmax}}\\,\\frac{P(s|c)P(c)}{P(s)} = \\underset{c}{\\mathrm{argmax}}\\,P(s|c)P(c)$$\n",
    "\n",
    "**Naive hypothesis : the variables (words) of a review are independant between themselves** : \n",
    "\n",
    "$$P(s|c) = P(w_1, ..., w_N|c)=\\Pi_{i=1..N}P(w_i|c)$$"
   ]
  },
  {
   "cell_type": "markdown",
   "metadata": {},
   "source": [
    "### General view\n",
    "\n",
    "#### Training: Estimating the probabilities\n",
    "\n",
    "For each word $w$ in the vocabulary $V$, $P(w|c)$ is the number of occurrences of $w$ in all reviews of class $c$, divided by the total number of occurrences in $c$. If we note $T(w,c)$ this number of occurrences, we get:\n",
    "\n",
    "$$P(w|c) = \\text{Frequency of }w\\text{ in }c = \\frac{T(w,c)}{\\sum_{w' \\in V} T(w',c)}$$\n",
    "\n",
    "#### Test: Calculating scores\n",
    "\n",
    "To facilitate the calculations and to avoid *underflow* and approximation errors, we use the log-sum trick, and we pass the equation into log-probabilities : \n",
    "\n",
    "$$ \\hat{c} = \\underset{c}{\\mathrm{argmax}} P(c|s) = \\underset{c}{\\mathrm{argmax}} \\left[ \\mathrm{log}(P(c)) + \\sum_{i=1..N}log(P(w_i|c)) \\right] $$\n",
    "\n",
    "#### Laplace smoothing\n",
    "\n",
    "A word that does not appear in a document has a probability of zero: this will cause issues with the logarithm. So we keep a very small part of the probability mass that we redistribute with the *Laplace smoothing*: \n",
    "\n",
    "$$P(w|c) = \\frac{T(w,c) + 1}{\\sum_{w' \\in V} (T(w',c) + 1)}$$\n",
    "\n",
    "There are other smoothing methods, generally suitable for other, more complex applications. "
   ]
  },
  {
   "cell_type": "markdown",
   "metadata": {},
   "source": [
    "### Detail: training\n",
    "\n",
    "The idea is to extract the number of occurrences $T(w,c)$ for each word $w$ and each class $c$, which will make it possible to calculate the matrix of conditional probabilities $\\pmb{P}$ such that: $$\\pmb{P}_{w,c} = P(w|c)$$\n",
    "\n",
    "Note that the number of occurrences $T(w,c)$ can be easily obtained from the BoW representations of all documents !\n",
    "\n",
    "#### Procedure:\n",
    "\n",
    "- Extract the vocabulary $V$ and counts $T(w,c)$ for each of the words $w$ and classes $c$, from a set of documents.\n",
    "- Calculate the a priori probabilities of the classes $P(c) = \\frac{|\\text{documents in class }c|}{|\\text{all documents}|}$\n",
    "- Calculate the conditional **smoothed** probabilities $P(w|c) = \\frac{T(w,c) + 1}{\\sum_{w' \\in V} T(w',c) + 1}$.\n",
    "\n",
    "### Detail: test\n",
    "\n",
    "We now know the conditional probabilities given by the $\\pmb{P}$ matrix. \n",
    "Now we must obtain $P(s|c)$ for the current document. This quantity is obtained using a simple calculation involving the BoW representation of the document and $\\pmb{P}$.\n",
    "\n",
    "#### Procedure:\n",
    "\n",
    "- For each of the classes $c$,\n",
    "    - $Score(c) = \\log P(c)$\n",
    "    - For each word $w$ in the document to be tested:\n",
    "        - $Score(c) += \\log P(w|c)$\n",
    "- Return $argmax_{c \\in C} Score(c)$ "
   ]
  },
  {
   "cell_type": "markdown",
   "metadata": {},
   "source": [
    "We will therefore be able to use the reviews at our disposal to **estimate the probabilities $P(w|c)$ for each word $w$ given the two classes $c$**. These reviews will allow us to learn how to evaluate the \"compatibility\" between words and classes.\n",
    "```python\n",
    "def fit(self, X, y)\n",
    "``` \n",
    "**Training**: will learn a statistical model based on the representations $X$ corresponding to the labels $y$.\n",
    "Here, $X$ contains representations obtained as the output of ```count_words```. You can complete the function using the procedure detailed above. \n",
    "\n",
    "Note: the smoothing is not necessarily done with a $1$ - it can be done with a positive value $\\alpha$, which we can implement as an argument of the class \"NB\".\n",
    "\n",
    "```python\n",
    "def predict(self, X)\n",
    "```\n",
    "**Testing**: will return the labels predicted by the model for other representations $X$.\n",
    "\n",
    "<div class='alert alert-block alert-info'>\n",
    "            Code:</div>"
   ]
  },
  {
   "cell_type": "code",
   "execution_count": 115,
   "metadata": {},
   "outputs": [],
   "source": [
    "class NB(BaseEstimator, ClassifierMixin):\n",
    "    # Les arguments de classe permettent l'héritage de classes de sklearn\n",
    "    def __init__(self, alpha=1.0):\n",
    "        # alpha is the smoothing parameter: it corresponds to line 10 of the training algorithm\n",
    "        # By default, we use alpha = 1\n",
    "        self.alpha = alpha\n",
    "\n",
    "    def fit(self, X, y):\n",
    "        # Count the number of documents and the number of classes\n",
    "        self.class_count_ = np.unique(y, return_counts=True)[1]\n",
    "        n_classes = len(self.class_count_)\n",
    "        n_features = X.shape[1]\n",
    "        self.classes_ = np.unique(y)\n",
    "        \n",
    "        # Initialize log prior and log likelihoods\n",
    "        self.log_prior_ = np.log(self.class_count_ / len(y))\n",
    "        self.feature_counts_ = np.zeros((n_classes, n_features))\n",
    "        self.feature_log_prob_ = np.zeros((n_classes, n_features))\n",
    "        \n",
    "        # Count features in documents for each class\n",
    "        for class_index, class_ in enumerate(self.classes_):\n",
    "            X_class = X[y == class_]\n",
    "            self.feature_counts_[class_index, :] = X_class.sum(axis=0) + self.alpha  # Apply Laplace smoothing\n",
    "        \n",
    "        # Compute the log likelihood of the features given a class\n",
    "        self.feature_log_prob_ = (np.log(self.feature_counts_) - \n",
    "                                  np.log(self.feature_counts_.sum(axis=1).reshape(-1, 1)))\n",
    "        \n",
    "        return self\n",
    "\n",
    "    def predict(self, X):\n",
    "        # Calculate the joint log likelihood\n",
    "        joint_log_likelihood = np.dot(X, self.feature_log_prob_.T) + self.log_prior_\n",
    "        # For each document, select the class with the highest log likelihood\n",
    "        predicted_classes = np.argmax(joint_log_likelihood, axis=1)\n",
    "        return self.classes_[predicted_classes]\n",
    "\n",
    "    def score(self, X, y):\n",
    "        return np.mean(self.predict(X) == y)"
   ]
  },
  {
   "cell_type": "markdown",
   "metadata": {},
   "source": [
    "## III - Experimentation\n",
    "\n",
    "Experiment on this model with your own representations. **Visualize** the results with the following tools, and **compare with the representations of ```CountVectorizer```/ naïve Bayes model of scikit-learn ```MultinomialNB```:**\n",
    "\n",
    "<div class='alert alert-block alert-info'>\n",
    "            Code:</div>"
   ]
  },
  {
   "cell_type": "code",
   "execution_count": 108,
   "metadata": {},
   "outputs": [],
   "source": [
    "from sklearn.metrics import confusion_matrix, ConfusionMatrixDisplay, classification_report\n",
    "from sklearn.naive_bayes import MultinomialNB"
   ]
  },
  {
   "cell_type": "markdown",
   "metadata": {},
   "source": [
    "Our NB with count_words"
   ]
  },
  {
   "cell_type": "code",
   "execution_count": 116,
   "metadata": {},
   "outputs": [
    {
     "name": "stdout",
     "output_type": "stream",
     "text": [
      "Accuracy with count_words:  0.806\n",
      "Report:\n",
      "              precision    recall  f1-score   support\n",
      "\n",
      "           0       0.77      0.85      0.81       242\n",
      "           1       0.85      0.76      0.80       258\n",
      "\n",
      "    accuracy                           0.81       500\n",
      "   macro avg       0.81      0.81      0.81       500\n",
      "weighted avg       0.81      0.81      0.81       500\n",
      "\n"
     ]
    },
    {
     "data": {
      "image/png": "[encoded data removed]",
      "text/plain": [
       "<Figure size 640x480 with 2 Axes>"
      ]
     },
     "metadata": {},
     "output_type": "display_data"
    }
   ],
   "source": [
    "# Fit the model on the training data\n",
    "NB_model_cw = NB()\n",
    "NB_model_cw.fit(train_bow, train_labels_splt)\n",
    "\n",
    "# Test it on the validation data\n",
    "score = NB_model_cw.score(val_bow, val_labels)\n",
    "print('Accuracy with count_words: ', score)\n",
    "\n",
    "y_predicted = NB_model_cw.predict(val_bow)\n",
    "\n",
    "confusion_mat = confusion_matrix(val_labels, y_predicted)\n",
    "ConfusionMatrixDisplay(confusion_mat).plot()\n",
    "\n",
    "report = classification_report(val_labels, y_predicted)\n",
    "print('Report:')\n",
    "print(report)"
   ]
  },
  {
   "cell_type": "markdown",
   "metadata": {},
   "source": [
    "Our NB with CountVectorizer"
   ]
  },
  {
   "cell_type": "code",
   "execution_count": 126,
   "metadata": {},
   "outputs": [
    {
     "name": "stdout",
     "output_type": "stream",
     "text": [
      "Accuracy with count_words:  0.788\n",
      "Report:\n",
      "              precision    recall  f1-score   support\n",
      "\n",
      "           0       0.75      0.84      0.79       242\n",
      "           1       0.83      0.74      0.78       258\n",
      "\n",
      "    accuracy                           0.79       500\n",
      "   macro avg       0.79      0.79      0.79       500\n",
      "weighted avg       0.79      0.79      0.79       500\n",
      "\n"
     ]
    },
    {
     "data": {
      "image/png": "[encoded data removed]",
      "text/plain": [
       "<Figure size 640x480 with 2 Axes>"
      ]
     },
     "metadata": {},
     "output_type": "display_data"
    }
   ],
   "source": [
    "# Fit the model on the training data\n",
    "NB_model_cv = NB()\n",
    "NB_model_cv.fit(vectorizer_train_bow, train_labels_splt)\n",
    "\n",
    "# Test it on the validation data\n",
    "score = NB_model_cv.score(vectorizer_val_bow, val_labels)\n",
    "print('Accuracy with count_words: ', score)\n",
    "\n",
    "y_predicted = NB_model_cv.predict(vectorizer_val_bow)\n",
    "\n",
    "confusion_mat = confusion_matrix(val_labels, y_predicted)\n",
    "ConfusionMatrixDisplay(confusion_mat).plot()\n",
    "\n",
    "report = classification_report(val_labels, y_predicted)\n",
    "print('Report:')\n",
    "print(report)"
   ]
  },
  {
   "cell_type": "markdown",
   "metadata": {},
   "source": [
    "Multinomia NB with count_words"
   ]
  },
  {
   "cell_type": "code",
   "execution_count": 113,
   "metadata": {},
   "outputs": [
    {
     "name": "stdout",
     "output_type": "stream",
     "text": [
      "Accuracy with count_words:  0.806\n",
      "Report:\n",
      "              precision    recall  f1-score   support\n",
      "\n",
      "           0       0.77      0.85      0.81       242\n",
      "           1       0.85      0.76      0.80       258\n",
      "\n",
      "    accuracy                           0.81       500\n",
      "   macro avg       0.81      0.81      0.81       500\n",
      "weighted avg       0.81      0.81      0.81       500\n",
      "\n"
     ]
    },
    {
     "data": {
      "image/png": "[encoded data removed]",
      "text/plain": [
       "<Figure size 640x480 with 2 Axes>"
      ]
     },
     "metadata": {},
     "output_type": "display_data"
    }
   ],
   "source": [
    "# Fit the model on the training data\n",
    "multinomia_NB_model_cw = MultinomialNB()\n",
    "multinomia_NB_model_cw.fit(train_bow, train_labels_splt)\n",
    "\n",
    "# Test it on the validation data\n",
    "multinomia_score = multinomia_NB_model_cw.score(val_bow, val_labels)\n",
    "print('Accuracy with count_words: ', multinomia_score)\n",
    "\n",
    "multinomia_y_predicted = multinomia_NB_model_cw.predict(val_bow)\n",
    "\n",
    "multinomia_confusion_mat = confusion_matrix(val_labels, multinomia_y_predicted)\n",
    "ConfusionMatrixDisplay(multinomia_confusion_mat).plot()\n",
    "\n",
    "multinomia_report = classification_report(val_labels, multinomia_y_predicted)\n",
    "print('Report:')\n",
    "print(report)"
   ]
  },
  {
   "cell_type": "markdown",
   "metadata": {},
   "source": [
    "Multinomia NB with CountVectorizer"
   ]
  },
  {
   "cell_type": "code",
   "execution_count": 127,
   "metadata": {},
   "outputs": [
    {
     "name": "stdout",
     "output_type": "stream",
     "text": [
      "Accuracy with count_words:  0.788\n",
      "Report:\n",
      "              precision    recall  f1-score   support\n",
      "\n",
      "           0       0.75      0.84      0.79       242\n",
      "           1       0.83      0.74      0.78       258\n",
      "\n",
      "    accuracy                           0.79       500\n",
      "   macro avg       0.79      0.79      0.79       500\n",
      "weighted avg       0.79      0.79      0.79       500\n",
      "\n"
     ]
    },
    {
     "data": {
      "image/png": "[encoded data removed]",
      "text/plain": [
       "<Figure size 640x480 with 2 Axes>"
      ]
     },
     "metadata": {},
     "output_type": "display_data"
    }
   ],
   "source": [
    "# Fit the model on the training data\n",
    "multinomia_NB_model_cv = MultinomialNB()\n",
    "multinomia_NB_model_cv.fit(vectorizer_train_bow, train_labels_splt)\n",
    "\n",
    "# Test it on the validation data\n",
    "multinomia_score = multinomia_NB_model_cv.score(vectorizer_val_bow, val_labels)\n",
    "print('Accuracy with count_words: ', multinomia_score)\n",
    "\n",
    "multinomia_y_predicted = multinomia_NB_model_cv.predict(vectorizer_val_bow)\n",
    "\n",
    "multinomia_confusion_mat = confusion_matrix(val_labels, multinomia_y_predicted)\n",
    "ConfusionMatrixDisplay(multinomia_confusion_mat).plot()\n",
    "\n",
    "multinomia_report = classification_report(val_labels, multinomia_y_predicted)\n",
    "print('Report:')\n",
    "print(report)"
   ]
  },
  {
   "cell_type": "markdown",
   "metadata": {},
   "source": [
    "<div class='alert alert-block alert-warning'>\n",
    "            Questions:</div>\n",
    "            \n",
    "Let us look at the *features* built by the ```vectorizer```. What seems to be the issue ? "
   ]
  },
  {
   "cell_type": "code",
   "execution_count": 129,
   "metadata": {},
   "outputs": [
    {
     "name": "stdout",
     "output_type": "stream",
     "text": [
      "['00' '000' '007' '0079' '0080' '0083' '01' '02' '05' '06' '07' '08' '09'\n",
      " '10' '100' '1000' '1000000' '100m' '101' '102' '105' '10mil' '10th'\n",
      " '10yr' '11' '110' '11001001' '112' '12' '120' '1200f' '123' '125' '12s'\n",
      " '12th' '13' '130' '134' '13th' '14' '145' '147' '14ieme' '14th' '15'\n",
      " '150' '16' '161' '16th' '16ème' '17' '1700' '1794' '1798' '17th' '18'\n",
      " '180' '1800' '1824' '1840' '1840s' '1850' '1880' '1880s' '1889' '1892'\n",
      " '1895' '1897' '18th' '19' '1902' '1907' '1910' '1911' '1912' '1914'\n",
      " '1916' '1918' '1919' '1920' '1920s' '1921' '1922' '1924' '1925' '1927'\n",
      " '1928' '1929' '1930' '1930s' '1933' '1934' '1935' '1936' '1937' '1938'\n",
      " '1939' '1940' '1940s' '1941']\n"
     ]
    }
   ],
   "source": [
    "print(vectorizer.get_feature_names_out()[:100])"
   ]
  },
  {
   "cell_type": "markdown",
   "metadata": {},
   "source": [
    "### Improving representations\n",
    "\n",
    "Mainly, the arguments of the class ```vectorizer``` will allow us to easily change the way our textual data is represented. Let us try to work on our *Bag-of-words* representations:\n",
    "   \n",
    "#### Do not take into account words that are too frequent:\n",
    "\n",
    "You can use the argument ```max_df=1.0``` to change the amount of words taken into account. \n",
    "\n",
    "#### Try different granularities:\n",
    "\n",
    "Rather than just counting words, we can count sequences of words - limited in size, of course. \n",
    "We call a sequence of $n$ words a $n$-gram: let's try using 2 and 3-grams (bi- and trigrams).\n",
    "We can also try to use character sequences instead of word sequences.\n",
    "\n",
    "We will be interested in the options ```analyze='word'``` and ```ngram_range=(1, 2)``` which we'll change to alter the granularity: **obtain classification results with them**.\n",
    "\n",
    "Again: using these ways of getting more features from our text will probably have more impact if we do not have much training data to begin with ! To accelerate experiments, use the ```Pipeline``` tool from scikit-learn. \n",
    "\n",
    "<div class='alert alert-block alert-info'>\n",
    "            Code:</div>"
   ]
  },
  {
   "cell_type": "code",
   "execution_count": 131,
   "metadata": {},
   "outputs": [],
   "source": [
    "from sklearn.pipeline import Pipeline"
   ]
  },
  {
   "cell_type": "code",
   "execution_count": 134,
   "metadata": {},
   "outputs": [
    {
     "name": "stdout",
     "output_type": "stream",
     "text": [
      "              precision    recall  f1-score   support\n",
      "\n",
      "           0       0.75      0.84      0.79       242\n",
      "           1       0.83      0.74      0.78       258\n",
      "\n",
      "    accuracy                           0.79       500\n",
      "   macro avg       0.79      0.79      0.79       500\n",
      "weighted avg       0.79      0.79      0.79       500\n",
      "\n"
     ]
    }
   ],
   "source": [
    "pipeline_base = Pipeline([\n",
    "    ('vect', CountVectorizer(max_features=30000, analyzer='word', stop_words=None)),\n",
    "    ('clf', MultinomialNB()),\n",
    "])\n",
    "\n",
    "pipeline_base.fit(train_texts_splt, train_labels_splt)\n",
    "val_pred = pipeline_base.predict(val_texts)\n",
    "print(classification_report(val_labels, val_pred))"
   ]
  },
  {
   "cell_type": "code",
   "execution_count": 135,
   "metadata": {},
   "outputs": [
    {
     "name": "stdout",
     "output_type": "stream",
     "text": [
      "              precision    recall  f1-score   support\n",
      "\n",
      "           0       0.80      0.83      0.81       242\n",
      "           1       0.84      0.80      0.82       258\n",
      "\n",
      "    accuracy                           0.82       500\n",
      "   macro avg       0.82      0.82      0.82       500\n",
      "weighted avg       0.82      0.82      0.82       500\n",
      "\n"
     ]
    }
   ],
   "source": [
    "pipeline_base = Pipeline([\n",
    "    ('vect', CountVectorizer(max_features=30000, ngram_range=(1, 2), stop_words=None)),\n",
    "    ('clf', MultinomialNB()),\n",
    "])\n",
    "\n",
    "pipeline_base.fit(train_texts_splt, train_labels_splt)\n",
    "val_pred = pipeline_base.predict(val_texts)\n",
    "print(classification_report(val_labels, val_pred))"
   ]
  },
  {
   "cell_type": "markdown",
   "metadata": {},
   "source": [
    "#### Tf-idf:\n",
    "\n",
    "This is the product of the frequency of the term (TF) and its inverse frequency in documents (IDF).\n",
    "This method is usually used to measure the importance of a term $i$ in a document $j$ relative to the rest of the corpus, from a matrix of occurrences $ words \\times documents$. Thus, for a matrix $\\mathbf{T}$ of $|V|$ terms and $D$ documents:\n",
    "$$\\text{TF}(T, w, d) = \\frac{T_{w,d}}{\\sum_{w'=1}^{|V|} T_{w',d}} $$\n",
    "\n",
    "$$\\text{IDF}(T, w) = \\log\\left(\\frac{D}{|\\{d : T_{w,d} > 0\\}|}\\right)$$\n",
    "\n",
    "$$\\text{TF-IDF}(T, w, d) = \\text{TF}(X, w, d) \\cdot \\text{IDF}(T, w)$$\n",
    "\n",
    "It can be adapted to our case by considering that the context of the second word is the document. However, TF-IDF is generally better suited to low-density matrices, since it will penalize terms that appear in a large part of the documents. "
   ]
  },
  {
   "cell_type": "markdown",
   "metadata": {},
   "source": [
    "Experiment with this new representations using the ```TfidfTransformer``` applied on top of ```CountVectorizer```.\n",
    "\n",
    "<div class='alert alert-block alert-info'>\n",
    "            Code:</div>"
   ]
  },
  {
   "cell_type": "code",
   "execution_count": 137,
   "metadata": {},
   "outputs": [],
   "source": [
    "from sklearn.feature_extraction.text import TfidfTransformer"
   ]
  },
  {
   "cell_type": "code",
   "execution_count": 140,
   "metadata": {},
   "outputs": [
    {
     "name": "stdout",
     "output_type": "stream",
     "text": [
      "Classification Report for Pipeline with TF-IDF Representation:\n",
      "              precision    recall  f1-score   support\n",
      "\n",
      "           0       0.72      0.91      0.80       242\n",
      "           1       0.89      0.67      0.76       258\n",
      "\n",
      "    accuracy                           0.78       500\n",
      "   macro avg       0.80      0.79      0.78       500\n",
      "weighted avg       0.81      0.78      0.78       500\n",
      "\n"
     ]
    },
    {
     "data": {
      "text/plain": [
       "<sklearn.metrics._plot.confusion_matrix.ConfusionMatrixDisplay at 0x28796bce8d0>"
      ]
     },
     "execution_count": 140,
     "metadata": {},
     "output_type": "execute_result"
    },
    {
     "data": {
      "image/png": "[encoded data removed]",
      "text/plain": [
       "<Figure size 640x480 with 2 Axes>"
      ]
     },
     "metadata": {},
     "output_type": "display_data"
    }
   ],
   "source": [
    "# Define a pipeline with CountVectorizer, TfidfTransformer, and MultinomialNB\n",
    "pipeline_tfidf = Pipeline([\n",
    "    ('vect', CountVectorizer(max_features=30000, analyzer='word', stop_words=None)),\n",
    "    ('tfidf', TfidfTransformer()),\n",
    "    ('clf', MultinomialNB()),\n",
    "])\n",
    "\n",
    "# Fit the pipeline to the training data and make predictions on the validation data\n",
    "pipeline_tfidf.fit(train_texts_splt, train_labels_splt)\n",
    "val_pred_tfidf = pipeline_tfidf.predict(val_texts)\n",
    "\n",
    "# Print classification report for the pipeline with TF-IDF representation\n",
    "print(\"Classification Report for Pipeline with TF-IDF Representation:\")\n",
    "print(classification_report(val_labels, val_pred_tfidf))\n",
    "\n",
    "classes = pipeline_tfidf.named_steps['clf'].classes_\n",
    "cm = confusion_matrix(val_labels, val_pred_tfidf, labels=classes)\n",
    "disp = ConfusionMatrixDisplay(confusion_matrix=cm, display_labels=classes)\n",
    "disp.plot()"
   ]
  },
  {
   "cell_type": "code",
   "execution_count": 152,
   "metadata": {},
   "outputs": [
    {
     "name": "stdout",
     "output_type": "stream",
     "text": [
      "['x0' 'x1' 'x2' ... 'x9997' 'x9998' 'x9999']\n"
     ]
    }
   ],
   "source": [
    "print(pipeline_tfidf.named_steps['tfidf'].get_feature_names_out()[:10000])"
   ]
  },
  {
   "cell_type": "code",
   "execution_count": 139,
   "metadata": {},
   "outputs": [
    {
     "name": "stdout",
     "output_type": "stream",
     "text": [
      "Accuracy with count_words:  0.702\n",
      "Report:\n",
      "              precision    recall  f1-score   support\n",
      "\n",
      "           0       0.75      0.84      0.79       242\n",
      "           1       0.83      0.74      0.78       258\n",
      "\n",
      "    accuracy                           0.79       500\n",
      "   macro avg       0.79      0.79      0.79       500\n",
      "weighted avg       0.79      0.79      0.79       500\n",
      "\n"
     ]
    },
    {
     "data": {
      "image/png": "[encoded data removed]",
      "text/plain": [
       "<Figure size 640x480 with 2 Axes>"
      ]
     },
     "metadata": {},
     "output_type": "display_data"
    }
   ],
   "source": [
    "Tfidf = TfidfTransformer()\n",
    "Tfidf_train_bow = Tfidf.fit_transform(vectorizer_train_bow)\n",
    "\n",
    "# Fit the model on the training data\n",
    "multinomia_NB_model_cv = MultinomialNB()\n",
    "multinomia_NB_model_cv.fit(Tfidf_train_bow, train_labels_splt)\n",
    "\n",
    "# Test it on the validation data\n",
    "multinomia_score = multinomia_NB_model_cv.score(vectorizer_val_bow, val_labels)\n",
    "print('Accuracy with count_words: ', multinomia_score)\n",
    "\n",
    "multinomia_y_predicted = multinomia_NB_model_cv.predict(vectorizer_val_bow)\n",
    "\n",
    "multinomia_confusion_mat = confusion_matrix(val_labels, multinomia_y_predicted)\n",
    "ConfusionMatrixDisplay(multinomia_confusion_mat).plot()\n",
    "\n",
    "multinomia_report = classification_report(val_labels, multinomia_y_predicted)\n",
    "print('Report:')\n",
    "print(report)"
   ]
  },
  {
   "cell_type": "code",
   "execution_count": null,
   "metadata": {},
   "outputs": [],
   "source": []
  },
  {
   "cell_type": "code",
   "execution_count": null,
   "metadata": {},
   "outputs": [],
   "source": []
  },
  {
   "cell_type": "markdown",
   "metadata": {},
   "source": [
    "## IV - More pre-processing: getting vocabularies\n",
    "\n",
    "For more flexibility, we will implement separately a function returning the vocabulary. Here we will have to be able to control its size, either by indicating a **maximum number of words**, or a **minimum number of occurrences** to take the words into account. **We add, at the end, an \"unknown\" word that will replace all the words that do not appear in our \"limited\" vocabulary**.\n",
    "<div class='alert alert-block alert-info'>\n",
    "            Code:</div>"
   ]
  },
  {
   "cell_type": "code",
   "execution_count": 157,
   "metadata": {},
   "outputs": [],
   "source": [
    "def vocabulary(corpus, count_threshold=0, voc_threshold=10000):\n",
    "    \"\"\"\n",
    "    Function using word counts to build a vocabulary - can be improved with a second parameter for\n",
    "    setting a frequency threshold\n",
    "    Params:\n",
    "        corpus (list of strings): corpus of sentences\n",
    "        count_threshold (int): number of occurrences necessary for a word to be included in the vocabulary\n",
    "        voc_threshold (int): maximum size of the vocabulary. Use \"0\" to indicate no limit\n",
    "    Returns:\n",
    "        vocabulary (dictionary): keys: list of distinct words across the corpus\n",
    "                                 values: indexes corresponding to each word sorted by frequency\n",
    "        vocabulary_word_counts (dictionary): keys: list of distinct words across the corpus\n",
    "                                             values: corresponding counts of words in the corpus\n",
    "    \"\"\"\n",
    "    word_counts = {}\n",
    "    for sent in corpus:\n",
    "        # Count word frequencies\n",
    "        for word in sent.split():\n",
    "            word_counts[word] = word_counts.get(word, 0) + 1\n",
    "\n",
    "    # Filter according to count_threshold\n",
    "    filtered_word_counts = {word: count for word, count in word_counts.items() if count >= count_threshold}\n",
    "\n",
    "    # Extract the words according to frequency\n",
    "    sorted_words = sorted(filtered_word_counts, key=filtered_word_counts.get, reverse=True)\n",
    "\n",
    "    # Remove the words above voc_threshold\n",
    "    if voc_threshold > 0:\n",
    "        filtered_words = sorted_words[:voc_threshold]\n",
    "    else:\n",
    "        filtered_words = sorted_words\n",
    "\n",
    "    # Add UNK\n",
    "    words = filtered_words + ['UNK']\n",
    "\n",
    "    # Create vocabulary from \"words\"\n",
    "    vocabulary = {word: index for index, word in enumerate(words)}\n",
    "\n",
    "    return vocabulary, {word: filtered_word_counts.get(word, 0) for word in vocabulary}"
   ]
  },
  {
   "cell_type": "code",
   "execution_count": 158,
   "metadata": {},
   "outputs": [
    {
     "name": "stdout",
     "output_type": "stream",
     "text": [
      "{'down': 0, 'the': 1, 'I': 2, 'UNK': 3}\n",
      "{'down': 6, 'the': 6, 'I': 5, 'UNK': 0}\n",
      "{'down': 0, 'the': 1, 'I': 2, 'walked': 3, 'boulevard': 4, 'avenue': 5, 'walk': 6, 'ran': 7, 'city': 8, 'UNK': 9}\n",
      "{'down': 6, 'the': 6, 'I': 5, 'walked': 2, 'boulevard': 2, 'avenue': 2, 'walk': 2, 'ran': 1, 'city': 1, 'UNK': 0}\n"
     ]
    }
   ],
   "source": [
    "# Example for testing:\n",
    "\n",
    "corpus = ['I walked down down the boulevard',\n",
    "          'I walked down the avenue',\n",
    "          'I ran down the boulevard',\n",
    "          'I walk down the city',\n",
    "          'I walk down the the avenue']\n",
    "\n",
    "voc, counts = vocabulary(corpus, count_threshold = 3)\n",
    "print(voc)\n",
    "print(counts)\n",
    "\n",
    "# We expect something like this:\n",
    "# (In this example, we don't count 'UNK' unknown words, but you can if you want to. \n",
    "# How useful it may be depends on the data -> we will use the counts later with word2vec, keep that in mind) \n",
    "#  {'down': 0, 'the': 1, 'i': 2, 'UNK': 3}\n",
    "#  {'down': 6, 'the': 6, 'i': 5, 'UNK': 0}\n",
    "\n",
    "voc, counts = vocabulary(corpus)\n",
    "print(voc)\n",
    "print(counts)\n",
    "\n",
    "# We expect something like this:\n",
    "#  {'down': 0, 'the': 1, 'i': 2, 'walked': 3, 'boulevard': 4, 'avenue': 5, 'walk': 6, 'ran': 7, 'city': 8, 'UNK': 9}\n",
    "#  {'down': 6, 'the': 6, 'i': 5, 'walked': 2, 'boulevard': 2, 'avenue': 2, 'walk': 2, 'ran': 1, 'city': 1, 'UNK': 0}"
   ]
  },
  {
   "cell_type": "markdown",
   "metadata": {},
   "source": [
    "### Quick study of the data\n",
    "\n",
    "We would like to get an idea of what's in these film reviews. So we'll get the vocabulary (in full) and represent the frequencies of the words, in order (be careful, you'll have to use a logarithmic scale): we should find back Zipf's law. This will give us an idea of the size of the vocabulary we will be able to choose: it's a matter of making a compromise between the necessary resources (size of the objects in memory) and the amount of information we can get from them (rare words can bring a lot of information, but it's difficult to learn good representations of them, because they are rare!).  \n",
    "\n",
    "<div class='alert alert-block alert-info'>\n",
    "            Code:</div>"
   ]
  },
  {
   "cell_type": "code",
   "execution_count": 171,
   "metadata": {},
   "outputs": [
    {
     "data": {
      "image/png": "[encoded data removed]",
      "text/plain": [
       "<Figure size 2000x500 with 1 Axes>"
      ]
     },
     "metadata": {},
     "output_type": "display_data"
    },
    {
     "name": "stdout",
     "output_type": "stream",
     "text": [
      "Vocabulary size: 280618\n",
      "The top 40000 most frequent words represent 93.56% of the data.\n"
     ]
    }
   ],
   "source": [
    "import matplotlib.pyplot as plt\n",
    "\n",
    "# We would like to display the curve of word frequencies given their rank (index) in the vocabulary\n",
    "vocab, word_counts = vocabulary(train_texts, voc_threshold=1000000)\n",
    "\n",
    "# Get the word frequencies and ranks\n",
    "word_frequencies = list(word_counts.values())\n",
    "ranks = list(range(len(word_frequencies)))\n",
    "\n",
    "# We can for example use the function plt.scatter()\n",
    "plt.figure(figsize=(20, 5))\n",
    "plt.title('Word counts versus rank')\n",
    "plt.scatter(ranks, word_frequencies)\n",
    "plt.yscale('log')\n",
    "plt.show()\n",
    "\n",
    "# We would like to know how much of the data is represented by the 'k' most frequent words\n",
    "print('Vocabulary size: %i' % len(vocab))\n",
    "\n",
    "k = 40000\n",
    "sorted_frequencies = sorted(word_frequencies, reverse=True)\n",
    "\n",
    "total_frequency = sum(sorted_frequencies)\n",
    "cumulative_sum = sum(sorted_frequencies[:k])\n",
    "percentage = (cumulative_sum / total_frequency) * 100\n",
    "\n",
    "print(f\"The top {k} most frequent words represent {percentage:.2f}% of the data.\")\n"
   ]
  },
  {
   "cell_type": "markdown",
   "metadata": {},
   "source": [
    "<div class='alert alert-block alert-warning'>\n",
    "            Questions:</div>\n",
    "            \n",
    "Word2vec's implementation cuts the vocabulary size by using **only words with at least 5 occurences**, by default. What vocabulary size would it give here ? Does it seem like a good compromise, looking at the graph ? "
   ]
  },
  {
   "cell_type": "code",
   "execution_count": 172,
   "metadata": {},
   "outputs": [
    {
     "data": {
      "image/png": "[encoded data removed]",
      "text/plain": [
       "<Figure size 2000x500 with 1 Axes>"
      ]
     },
     "metadata": {},
     "output_type": "display_data"
    },
    {
     "name": "stdout",
     "output_type": "stream",
     "text": [
      "Vocabulary size: 49346\n",
      "The top 40000 most frequent words represent 99.10% of the data.\n"
     ]
    }
   ],
   "source": [
    "vocab_5_occur, word_counts = vocabulary(train_texts, count_threshold=5, voc_threshold=1000000)\n",
    "word_frequencies = list(word_counts.values())\n",
    "ranks = list(range(len(word_frequencies)))\n",
    "\n",
    "\n",
    "plt.figure(figsize=(20, 5))\n",
    "plt.title('Word counts versus rank')\n",
    "plt.scatter(ranks, word_frequencies)\n",
    "plt.yscale('log')\n",
    "plt.show()\n",
    "\n",
    "k = 40000\n",
    "sorted_frequencies = sorted(word_frequencies, reverse=True)\n",
    "\n",
    "total_frequency = sum(sorted_frequencies)\n",
    "cumulative_sum = sum(sorted_frequencies[:k])\n",
    "percentage = (cumulative_sum / total_frequency) * 100\n",
    "\n",
    "print('Vocabulary size: %i' % len(vocab_5_occur))\n",
    "print(f\"The top {k} most frequent words represent {percentage:.2f}% of the data.\")\n"
   ]
  },
  {
   "cell_type": "markdown",
   "metadata": {},
   "source": [
    "### With pre-processing tools from NLTK\n",
    "\n",
    "We are now going to pre-process our textual data. **Note that this still will only be useful if we do not have a lot of training data to begin with !**"
   ]
  },
  {
   "cell_type": "markdown",
   "metadata": {},
   "source": [
    "#### Stemming \n",
    "\n",
    "Allows to go back to the root of a word: you can group different words around the same root, which facilitates generalization. Use:\n",
    "```from nltk import SnowballStemmer```"
   ]
  },
  {
   "cell_type": "code",
   "execution_count": 173,
   "metadata": {},
   "outputs": [],
   "source": [
    "from nltk import SnowballStemmer\n",
    "stemmer = SnowballStemmer(\"english\")"
   ]
  },
  {
   "cell_type": "markdown",
   "metadata": {},
   "source": [
    "**Example:**"
   ]
  },
  {
   "cell_type": "code",
   "execution_count": 174,
   "metadata": {},
   "outputs": [
    {
     "name": "stdout",
     "output_type": "stream",
     "text": [
      "word : singers ; stemmed : singer\n",
      "word : cat ; stemmed : cat\n",
      "word : generalization ; stemmed : general\n",
      "word : philosophy ; stemmed : philosophi\n",
      "word : psychology ; stemmed : psycholog\n",
      "word : philosopher ; stemmed : philosoph\n"
     ]
    }
   ],
   "source": [
    "words = ['singers', 'cat', 'generalization', 'philosophy', 'psychology', 'philosopher']\n",
    "for word in words:\n",
    "    print('word : %s ; stemmed : %s' %(word, stemmer.stem(word)))"
   ]
  },
  {
   "cell_type": "markdown",
   "metadata": {},
   "source": [
    "**Data transformation:**\n",
    "\n",
    "<div class='alert alert-block alert-info'>\n",
    "            Code:</div>"
   ]
  },
  {
   "cell_type": "code",
   "execution_count": 175,
   "metadata": {},
   "outputs": [],
   "source": [
    "def stem(texts):\n",
    "    stemmed_texts = []\n",
    "    for text in texts:\n",
    "        stemmed_text = []\n",
    "        for word in text.split():\n",
    "            stemmed_word = stemmer.stem(word)\n",
    "            stemmed_text.append(stemmed_word)\n",
    "        stemmed_texts.append(' '.join(stemmed_text))\n",
    "    return stemmed_texts"
   ]
  },
  {
   "cell_type": "markdown",
   "metadata": {},
   "source": [
    "#### Part of speech tags\n",
    "\n",
    "To generalize, we can also use the Part of Speech (POS) of the words, which will allow us to filter out information that is potentially not useful to the model. We will retrieve the POS of the words using the functions:\n",
    "```pos_tag```"
   ]
  },
  {
   "cell_type": "code",
   "execution_count": 176,
   "metadata": {},
   "outputs": [],
   "source": [
    "import nltk\n",
    "from nltk import pos_tag, word_tokenize"
   ]
  },
  {
   "cell_type": "markdown",
   "metadata": {},
   "source": [
    "**Example:**"
   ]
  },
  {
   "cell_type": "code",
   "execution_count": 177,
   "metadata": {},
   "outputs": [
    {
     "name": "stderr",
     "output_type": "stream",
     "text": [
      "[nltk_data] Downloading package punkt to C:\\Users\\João\n",
      "[nltk_data]     Melga\\AppData\\Roaming\\nltk_data...\n",
      "[nltk_data]   Package punkt is already up-to-date!\n",
      "[nltk_data] Downloading package averaged_perceptron_tagger to\n",
      "[nltk_data]     C:\\Users\\João Melga\\AppData\\Roaming\\nltk_data...\n",
      "[nltk_data]   Unzipping taggers\\averaged_perceptron_tagger.zip.\n"
     ]
    },
    {
     "data": {
      "text/plain": [
       "[('I', 'PRP'), ('am', 'VBP'), ('Sam', 'NNP')]"
      ]
     },
     "execution_count": 177,
     "metadata": {},
     "output_type": "execute_result"
    }
   ],
   "source": [
    "import nltk\n",
    "nltk.download('punkt')\n",
    "nltk.download('averaged_perceptron_tagger')\n",
    "\n",
    "pos_tag(word_tokenize(('I am Sam')))"
   ]
  },
  {
   "cell_type": "markdown",
   "metadata": {},
   "source": [
    "**Data transformation:** only keep nouns, verbs, adverbs, and adjectives (```['NN', 'VB', 'ADJ', 'RB']```) for our model.\n",
    "\n",
    "<div class='alert alert-block alert-info'>\n",
    "            Code:</div>"
   ]
  },
  {
   "cell_type": "code",
   "execution_count": 187,
   "metadata": {},
   "outputs": [],
   "source": [
    "def pos_tag_filter(X, good_tags=['NN', 'VB', 'ADJ', 'RB']):\n",
    "    filtered_X = []\n",
    "    for sentence in X:\n",
    "        tagged_sentence = pos_tag(word_tokenize(sentence))\n",
    "        filtered_sentence = str([word for word, tag in tagged_sentence if tag in good_tags])\n",
    "        filtered_X.append(filtered_sentence)\n",
    "    return filtered_X"
   ]
  },
  {
   "cell_type": "markdown",
   "metadata": {},
   "source": [
    "### Application\n",
    "\n",
    "<div class='alert alert-block alert-warning'>\n",
    "            Questions:</div>\n",
    "\n",
    "Re-draw the Zipf distribution of our data **after reducing their vocabulary with these functions**. How is it affected ? How do you think it could affect results here ?         \n",
    "        \n",
    "<div class='alert alert-block alert-info'>\n",
    "            Code:</div>        "
   ]
  },
  {
   "cell_type": "code",
   "execution_count": 186,
   "metadata": {},
   "outputs": [
    {
     "data": {
      "image/png": "[encoded data removed]",
      "text/plain": [
       "<Figure size 2000x500 with 1 Axes>"
      ]
     },
     "metadata": {},
     "output_type": "display_data"
    },
    {
     "name": "stdout",
     "output_type": "stream",
     "text": [
      "Vocabulary size: 42402\n",
      "The top 40000 most frequent words represent 99.48% of the data.\n"
     ]
    }
   ],
   "source": [
    "stemmed_train_texts = stem(train_texts_splt)\n",
    "# pos_tagged_train_texts = pos_tag_filter(stemmed_train_texts)\n",
    "\n",
    "vocab, word_counts = vocabulary(stemmed_train_texts, voc_threshold=1000000)\n",
    "word_frequencies = list(word_counts.values())\n",
    "ranks = list(range(len(word_frequencies)))\n",
    "\n",
    "plt.figure(figsize=(20, 5))\n",
    "plt.title('Word counts versus rank')\n",
    "plt.scatter(ranks, word_frequencies)\n",
    "plt.yscale('log')\n",
    "plt.show()\n",
    "\n",
    "k = 5000\n",
    "sorted_frequencies = sorted(word_frequencies, reverse=True)\n",
    "\n",
    "total_frequency = sum(sorted_frequencies)\n",
    "cumulative_sum = sum(sorted_frequencies[:k])\n",
    "percentage = (cumulative_sum / total_frequency) * 100\n",
    "\n",
    "print('Vocabulary size: %i' % len(vocab))\n",
    "print(f\"The top {k} most frequent words represent {percentage:.2f}% of the data.\")"
   ]
  },
  {
   "cell_type": "code",
   "execution_count": 190,
   "metadata": {},
   "outputs": [
    {
     "data": {
      "image/png": "[encoded data removed]",
      "text/plain": [
       "<Figure size 2000x500 with 1 Axes>"
      ]
     },
     "metadata": {},
     "output_type": "display_data"
    },
    {
     "name": "stdout",
     "output_type": "stream",
     "text": [
      "Vocabulary size: 13545\n",
      "The top 5000 most frequent words represent 92.26% of the data.\n"
     ]
    }
   ],
   "source": [
    "pos_tagged_train_texts = pos_tag_filter(train_texts_splt)\n",
    "\n",
    "vocab, word_counts = vocabulary(pos_tagged_train_texts, voc_threshold=1000000)\n",
    "word_frequencies = list(word_counts.values())\n",
    "ranks = list(range(len(word_frequencies)))\n",
    "\n",
    "plt.figure(figsize=(20, 5))\n",
    "plt.title('Word counts versus rank')\n",
    "plt.scatter(ranks, word_frequencies)\n",
    "plt.yscale('log')\n",
    "plt.show()\n",
    "\n",
    "k = 5000\n",
    "sorted_frequencies = sorted(word_frequencies, reverse=True)\n",
    "\n",
    "total_frequency = sum(sorted_frequencies)\n",
    "cumulative_sum = sum(sorted_frequencies[:k])\n",
    "percentage = (cumulative_sum / total_frequency) * 100\n",
    "\n",
    "print('Vocabulary size: %i' % len(vocab))\n",
    "print(f\"The top {k} most frequent words represent {percentage:.2f}% of the data.\")"
   ]
  },
  {
   "cell_type": "code",
   "execution_count": 194,
   "metadata": {},
   "outputs": [
    {
     "data": {
      "image/png": "[encoded data removed]",
      "text/plain": [
       "<Figure size 2000x500 with 1 Axes>"
      ]
     },
     "metadata": {},
     "output_type": "display_data"
    },
    {
     "name": "stdout",
     "output_type": "stream",
     "text": [
      "Vocabulary size: 12933\n",
      "The top 5000 most frequent words represent 92.90% of the data.\n"
     ]
    }
   ],
   "source": [
    "pos_tagged_train_texts = pos_tag_filter(train_texts_splt)\n",
    "stemmed_train_texts = stem(pos_tagged_train_texts)\n",
    "\n",
    "vocab, word_counts = vocabulary(stemmed_train_texts, voc_threshold=1000000)\n",
    "word_frequencies = list(word_counts.values())\n",
    "ranks = list(range(len(word_frequencies)))\n",
    "\n",
    "plt.figure(figsize=(20, 5))\n",
    "plt.title('Word counts versus rank')\n",
    "plt.scatter(ranks, word_frequencies)\n",
    "plt.yscale('log')\n",
    "plt.show()\n",
    "\n",
    "k = 5000\n",
    "sorted_frequencies = sorted(word_frequencies, reverse=True)\n",
    "\n",
    "total_frequency = sum(sorted_frequencies)\n",
    "cumulative_sum = sum(sorted_frequencies[:k])\n",
    "percentage = (cumulative_sum / total_frequency) * 100\n",
    "\n",
    "print('Vocabulary size: %i' % len(vocab))\n",
    "print(f\"The top {k} most frequent words represent {percentage:.2f}% of the data.\")"
   ]
  },
  {
   "cell_type": "code",
   "execution_count": 193,
   "metadata": {},
   "outputs": [
    {
     "data": {
      "image/png": "[encoded data removed]",
      "text/plain": [
       "<Figure size 2000x500 with 1 Axes>"
      ]
     },
     "metadata": {},
     "output_type": "display_data"
    },
    {
     "name": "stdout",
     "output_type": "stream",
     "text": [
      "Vocabulary size: 20123\n",
      "The top 5000 most frequent words represent 88.03% of the data.\n"
     ]
    }
   ],
   "source": [
    "stemmed_train_texts = stem(train_texts_splt)\n",
    "pos_tagged_train_texts = pos_tag_filter(stemmed_train_texts)\n",
    "\n",
    "vocab, word_counts = vocabulary(pos_tagged_train_texts, voc_threshold=1000000)\n",
    "word_frequencies = list(word_counts.values())\n",
    "ranks = list(range(len(word_frequencies)))\n",
    "\n",
    "plt.figure(figsize=(20, 5))\n",
    "plt.title('Word counts versus rank')\n",
    "plt.scatter(ranks, word_frequencies)\n",
    "plt.yscale('log')\n",
    "plt.show()\n",
    "\n",
    "k = 5000\n",
    "sorted_frequencies = sorted(word_frequencies, reverse=True)\n",
    "\n",
    "total_frequency = sum(sorted_frequencies)\n",
    "cumulative_sum = sum(sorted_frequencies[:k])\n",
    "percentage = (cumulative_sum / total_frequency) * 100\n",
    "\n",
    "print('Vocabulary size: %i' % len(vocab))\n",
    "print(f\"The top {k} most frequent words represent {percentage:.2f}% of the data.\")"
   ]
  }
 ],
 "metadata": {
  "anaconda-cloud": {},
  "kernelspec": {
   "display_name": "Python 3 (ipykernel)",
   "language": "python",
   "name": "python3"
  },
  "language_info": {
   "codemirror_mode": {
    "name": "ipython",
    "version": 3
   },
   "file_extension": ".py",
   "mimetype": "text/x-python",
   "name": "python",
   "nbconvert_exporter": "python",
   "pygments_lexer": "ipython3",
   "version": "3.9.12"
  }
 },
 "nbformat": 4,
 "nbformat_minor": 1
}
